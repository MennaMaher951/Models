{
 "cells": [
  {
   "cell_type": "markdown",
   "id": "5baecfa5",
   "metadata": {},
   "source": [
    "## Building Lasso Regression"
   ]
  },
  {
   "cell_type": "code",
   "execution_count": 1,
   "id": "572fc2a6",
   "metadata": {},
   "outputs": [],
   "source": [
    "import numpy as np"
   ]
  },
  {
   "cell_type": "code",
   "execution_count": 4,
   "id": "c65544db",
   "metadata": {},
   "outputs": [],
   "source": [
    "# building lasso regression model\n",
    "class Lasso_Regression():\n",
    "    \n",
    "#initiating learning rate and no of iteration\n",
    "    def __init__ (self,learning_rate,no_of_iterations,lambda_parameter):\n",
    "        self.learning_rate=learning_rate\n",
    "        self.no_of_iterations=no_of_iterations\n",
    "        self.lambda_parameter=lambda_parameter\n",
    "        \n",
    "# fitting the data to the model\n",
    "    def fit (self,x,y):\n",
    "        self.m,self.n = x.shape   # no of rows and columns\n",
    "\n",
    "# initiate the weight and bias values\n",
    "        self.w = np.zeros(self.n)\n",
    "        self.b = 0\n",
    "        self.x = x\n",
    "        self.y = y\n",
    "        \n",
    "        \n",
    "# implementing gradint descent algorithm for optimization\n",
    "        for i in range (self.no_of_iterations):\n",
    "            self.update_weights()\n",
    "            \n",
    "    # fuction for updating weight & bias \n",
    "    def update_weights(self):\n",
    "        # linear equation of the model\n",
    "        y_prediction = self.predict(self.x)\n",
    "        \n",
    "        # Gradients (dw , db)\n",
    "        dw = np.zeros(self.n)\n",
    "        for i in range (self.n):\n",
    "            if self.w[i]>0:\n",
    "                dw = (-(2*(self.x[:,i].dot(self.y-y_prediction))+self.lambda_parameter))/self.m\n",
    "            else:\n",
    "                dw[i] = (-(2*(self.x[:,i].dot(self.y-y_prediction))-self.lambda_parameter))\n",
    "                \n",
    "        db = -2*np.sum(self.y-y_prediction)/self.m\n",
    "        \n",
    "        # updating weight & bias\n",
    "        self.w = self.w - self.learning_rate*dw\n",
    "        self.b = self.b - self.learning_rate*db\n",
    "        \n",
    "# predicting the target variable \n",
    "    def predict (self,x):\n",
    "        return x.dot(self.w)+self.b\n"
   ]
  }
 ],
 "metadata": {
  "kernelspec": {
   "display_name": "Python 3 (ipykernel)",
   "language": "python",
   "name": "python3"
  },
  "language_info": {
   "codemirror_mode": {
    "name": "ipython",
    "version": 3
   },
   "file_extension": ".py",
   "mimetype": "text/x-python",
   "name": "python",
   "nbconvert_exporter": "python",
   "pygments_lexer": "ipython3",
   "version": "3.10.9"
  }
 },
 "nbformat": 4,
 "nbformat_minor": 5
}
