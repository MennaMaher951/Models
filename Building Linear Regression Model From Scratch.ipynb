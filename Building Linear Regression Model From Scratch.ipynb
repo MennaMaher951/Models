{
 "cells": [
  {
   "cell_type": "markdown",
   "id": "c64cbd3d",
   "metadata": {},
   "source": [
    "# Building Linear Regression "
   ]
  },
  {
   "cell_type": "markdown",
   "id": "e198d54d",
   "metadata": {},
   "source": [
    " * Y = W*X + B\n",
    " * W = w - a * dw    ----> dw = ((-2)/n) * summation (Xi(Yi-Yipred))\n",
    " * B = b - a * db    ----> db = ((-2)/n) * summation (Yi-Yipred)"
   ]
  },
  {
   "cell_type": "code",
   "execution_count": 1,
   "id": "5c8f4b17",
   "metadata": {},
   "outputs": [],
   "source": [
    "import numpy as np"
   ]
  },
  {
   "cell_type": "code",
   "execution_count": 2,
   "id": "5ccd745b",
   "metadata": {},
   "outputs": [],
   "source": [
    "class Linear_Regression():\n",
    "    \n",
    "# initiating the parameters (learning rate & number of iteraion)\n",
    "    \n",
    "    def __init__ (self,learning_rate,no_of_iterations):\n",
    "        \n",
    "       self.learning_rate = learning_rate\n",
    "       self.no_of_iterations = no_of_iterations \n",
    "    \n",
    "\n",
    "# fit the function to train the model with dataset    \n",
    "    \n",
    "    def fit (self,x,y):\n",
    "       self.m , self.n = x.shape # no of rows & columns \n",
    "       \n",
    "# initiating the weight & bias\n",
    "\n",
    "       self.w = np.zeros(self.n)\n",
    "       self.b = 0\n",
    "       self.x = x\n",
    "       self.y = y\n",
    "        \n",
    "# implting gradient descent \n",
    "       for i in range (self.no_of_iterations):\n",
    "          self.update_weights()\n",
    "            \n",
    "    def update_weights(self,):\n",
    "        y_prediction = self.predict(self.x)\n",
    "        \n",
    "# calculating the gradients\n",
    "        dw = -(2*(self.x.T).dot(self.y-y_prediction))/self.m\n",
    "        db = -2 * np.sum(self.y-y_prediction)/self.m\n",
    "        \n",
    "# updating weights \n",
    "        self.w = self.w - self.learning_rate*dw\n",
    "        self.b = self.b - self.learning_rate*db\n",
    "    def predict (self,x):\n",
    "        return x.dot(self.w)+self.b"
   ]
  },
  {
   "cell_type": "markdown",
   "id": "8ea6dde3",
   "metadata": {},
   "source": [
    " # Using The Regression Model For Predicton"
   ]
  },
  {
   "cell_type": "markdown",
   "id": "f4e8cdf5",
   "metadata": {},
   "source": [
    "## Importing the dependencies"
   ]
  },
  {
   "cell_type": "code",
   "execution_count": 3,
   "id": "1f7c39ff",
   "metadata": {},
   "outputs": [],
   "source": [
    "import pandas as pd \n",
    "from sklearn.model_selection import train_test_split\n",
    "import matplotlib.pyplot as plt "
   ]
  },
  {
   "cell_type": "markdown",
   "id": "3f928206",
   "metadata": {},
   "source": [
    "## Data preprocessing"
   ]
  },
  {
   "cell_type": "code",
   "execution_count": 4,
   "id": "aceeae15",
   "metadata": {},
   "outputs": [],
   "source": [
    "data = pd.read_csv('salary_data.csv')"
   ]
  },
  {
   "cell_type": "code",
   "execution_count": 5,
   "id": "69803464",
   "metadata": {},
   "outputs": [
    {
     "data": {
      "text/html": [
       "<div>\n",
       "<style scoped>\n",
       "    .dataframe tbody tr th:only-of-type {\n",
       "        vertical-align: middle;\n",
       "    }\n",
       "\n",
       "    .dataframe tbody tr th {\n",
       "        vertical-align: top;\n",
       "    }\n",
       "\n",
       "    .dataframe thead th {\n",
       "        text-align: right;\n",
       "    }\n",
       "</style>\n",
       "<table border=\"1\" class=\"dataframe\">\n",
       "  <thead>\n",
       "    <tr style=\"text-align: right;\">\n",
       "      <th></th>\n",
       "      <th>YearsExperience</th>\n",
       "      <th>Salary</th>\n",
       "    </tr>\n",
       "  </thead>\n",
       "  <tbody>\n",
       "    <tr>\n",
       "      <th>0</th>\n",
       "      <td>1.1</td>\n",
       "      <td>39343</td>\n",
       "    </tr>\n",
       "    <tr>\n",
       "      <th>1</th>\n",
       "      <td>1.3</td>\n",
       "      <td>46205</td>\n",
       "    </tr>\n",
       "    <tr>\n",
       "      <th>2</th>\n",
       "      <td>1.5</td>\n",
       "      <td>37731</td>\n",
       "    </tr>\n",
       "    <tr>\n",
       "      <th>3</th>\n",
       "      <td>2.0</td>\n",
       "      <td>43525</td>\n",
       "    </tr>\n",
       "    <tr>\n",
       "      <th>4</th>\n",
       "      <td>2.2</td>\n",
       "      <td>39891</td>\n",
       "    </tr>\n",
       "  </tbody>\n",
       "</table>\n",
       "</div>"
      ],
      "text/plain": [
       "   YearsExperience  Salary\n",
       "0              1.1   39343\n",
       "1              1.3   46205\n",
       "2              1.5   37731\n",
       "3              2.0   43525\n",
       "4              2.2   39891"
      ]
     },
     "execution_count": 5,
     "metadata": {},
     "output_type": "execute_result"
    }
   ],
   "source": [
    "data.head()"
   ]
  },
  {
   "cell_type": "code",
   "execution_count": 6,
   "id": "f1b2c7c9",
   "metadata": {},
   "outputs": [
    {
     "data": {
      "text/plain": [
       "(30, 2)"
      ]
     },
     "execution_count": 6,
     "metadata": {},
     "output_type": "execute_result"
    }
   ],
   "source": [
    "data.shape"
   ]
  },
  {
   "cell_type": "code",
   "execution_count": 7,
   "id": "ec95f92f",
   "metadata": {},
   "outputs": [
    {
     "data": {
      "text/plain": [
       "YearsExperience    0\n",
       "Salary             0\n",
       "dtype: int64"
      ]
     },
     "execution_count": 7,
     "metadata": {},
     "output_type": "execute_result"
    }
   ],
   "source": [
    "data.isnull().sum()"
   ]
  },
  {
   "cell_type": "markdown",
   "id": "794a21fe",
   "metadata": {},
   "source": [
    "## Splitting the features & target "
   ]
  },
  {
   "cell_type": "code",
   "execution_count": 8,
   "id": "210a8453",
   "metadata": {},
   "outputs": [
    {
     "name": "stdout",
     "output_type": "stream",
     "text": [
      "[[ 1.1]\n",
      " [ 1.3]\n",
      " [ 1.5]\n",
      " [ 2. ]\n",
      " [ 2.2]\n",
      " [ 2.9]\n",
      " [ 3. ]\n",
      " [ 3.2]\n",
      " [ 3.2]\n",
      " [ 3.7]\n",
      " [ 3.9]\n",
      " [ 4. ]\n",
      " [ 4. ]\n",
      " [ 4.1]\n",
      " [ 4.5]\n",
      " [ 4.9]\n",
      " [ 5.1]\n",
      " [ 5.3]\n",
      " [ 5.9]\n",
      " [ 6. ]\n",
      " [ 6.8]\n",
      " [ 7.1]\n",
      " [ 7.9]\n",
      " [ 8.2]\n",
      " [ 8.7]\n",
      " [ 9. ]\n",
      " [ 9.5]\n",
      " [ 9.6]\n",
      " [10.3]\n",
      " [10.5]]\n",
      "-----------------------------------------\n",
      "[ 39343  46205  37731  43525  39891  56642  60150  54445  64445  57189\n",
      "  63218  55794  56957  57081  61111  67938  66029  83088  81363  93940\n",
      "  91738  98273 101302 113812 109431 105582 116969 112635 122391 121872]\n"
     ]
    }
   ],
   "source": [
    "x = data.iloc[:,:-1].values\n",
    "y = data.iloc[:,1].values\n",
    "print(x)\n",
    "print('-----------------------------------------')\n",
    "print(y)"
   ]
  },
  {
   "cell_type": "markdown",
   "id": "6cd9e6be",
   "metadata": {},
   "source": [
    "## Train Test Split"
   ]
  },
  {
   "cell_type": "code",
   "execution_count": 9,
   "id": "c7d6387f",
   "metadata": {},
   "outputs": [
    {
     "name": "stdout",
     "output_type": "stream",
     "text": [
      "(30, 1) (20, 1) (10, 1)\n"
     ]
    }
   ],
   "source": [
    "x_train,x_test,y_train,y_test = train_test_split(x,y,test_size=0.33,random_state=2)\n",
    "print(x.shape, x_train.shape, x_test.shape)"
   ]
  },
  {
   "cell_type": "markdown",
   "id": "e6258d4d",
   "metadata": {},
   "source": [
    "## Training linear regression model"
   ]
  },
  {
   "cell_type": "code",
   "execution_count": 11,
   "id": "4d4d2c76",
   "metadata": {},
   "outputs": [],
   "source": [
    "model = Linear_Regression(learning_rate = 0.02,no_of_iterations = 1000)\n",
    "model.fit(x_train,y_train)"
   ]
  },
  {
   "cell_type": "code",
   "execution_count": 12,
   "id": "161f5d2d",
   "metadata": {},
   "outputs": [
    {
     "name": "stdout",
     "output_type": "stream",
     "text": [
      "weight =  9514.400999035135\n",
      "bias =  23697.406507136307\n"
     ]
    }
   ],
   "source": [
    "# printing the parameters values (w & b)\n",
    "print('weight = ',model.w[0])\n",
    "print('bias = ',model.b)"
   ]
  },
  {
   "cell_type": "markdown",
   "id": "256d5105",
   "metadata": {},
   "source": [
    "## Predicting the salary value for test data "
   ]
  },
  {
   "cell_type": "code",
   "execution_count": 15,
   "id": "b1298e9c",
   "metadata": {},
   "outputs": [
    {
     "name": "stdout",
     "output_type": "stream",
     "text": [
      "[ 36066.12780588  34163.24760607  66512.21100279  58900.69020357\n",
      "  91249.65360029  80783.81250135 101715.49469922  52240.60950424\n",
      "  42726.20850521  88395.33330058]\n"
     ]
    }
   ],
   "source": [
    "test_data_predection = model.predict(x_test)\n",
    "print(test_data_predection)"
   ]
  },
  {
   "cell_type": "markdown",
   "id": "d170d5e2",
   "metadata": {},
   "source": [
    "## Visualizing the predicting values & actual values"
   ]
  },
  {
   "cell_type": "code",
   "execution_count": 19,
   "id": "1e285794",
   "metadata": {},
   "outputs": [
    {
     "data": {
      "image/png": "[encoded data removed]",
      "text/plain": [
       "<Figure size 640x480 with 1 Axes>"
      ]
     },
     "metadata": {},
     "output_type": "display_data"
    }
   ],
   "source": [
    "plt.scatter(x_test,y_test,color = 'red')\n",
    "plt.plot(x_test,test_data_predection, color = 'blue')\n",
    "plt.xlable = ('Work Experience')\n",
    "plt.ylable = ('Salary')\n",
    "plt.title = ('Salary VS Experience')\n",
    "plt.show()"
   ]
  }
 ],
 "metadata": {
  "kernelspec": {
   "display_name": "Python 3 (ipykernel)",
   "language": "python",
   "name": "python3"
  },
  "language_info": {
   "codemirror_mode": {
    "name": "ipython",
    "version": 3
   },
   "file_extension": ".py",
   "mimetype": "text/x-python",
   "name": "python",
   "nbconvert_exporter": "python",
   "pygments_lexer": "ipython3",
   "version": "3.10.9"
  }
 },
 "nbformat": 4,
 "nbformat_minor": 5
}
